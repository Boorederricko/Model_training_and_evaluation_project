{
 "cells": [
  {
   "cell_type": "code",
   "execution_count": 1,
   "id": "9385d080",
   "metadata": {
    "scrolled": false
   },
   "outputs": [],
   "source": [
    "import tensorflow as tf\n",
    "from tensorflow import keras\n",
    "from tensorflow.keras import layers\n",
    "from tensorflow.keras.models import Sequential\n",
    "from tensorflow.keras.layers import Conv2D, MaxPooling2D, Flatten, Dense, Dropout\n",
    "import matplotlib.pyplot as plt\n",
    "from tensorflow.keras.preprocessing.image import ImageDataGenerator \n",
    "import os\n",
    "import numpy"
   ]
  },
  {
   "cell_type": "code",
   "execution_count": 2,
   "id": "cf5cc077",
   "metadata": {},
   "outputs": [],
   "source": [
    "# Define the paths to your data\n",
    "base_dir = 'C:\\\\Users\\\\hp\\\\TensorFlowlite\\\\Main_dataset'\n",
    "train_dir = os.path.join(base_dir, 'train')"
   ]
  },
  {
   "cell_type": "code",
   "execution_count": 3,
   "id": "a9e3fa02",
   "metadata": {},
   "outputs": [],
   "source": [
    "# Define data generators for training and testing\n",
    "train_datagen = ImageDataGenerator(\n",
    "    rescale=1.0/255.0,       # Normalize pixel values to [0, 1]\n",
    "    validation_split=0.2     # Split data into 80% training and 20% validation\n",
    ")"
   ]
  },
  {
   "cell_type": "code",
   "execution_count": 4,
   "id": "da3ebe29",
   "metadata": {},
   "outputs": [
    {
     "name": "stdout",
     "output_type": "stream",
     "text": [
      "Found 127 images belonging to 2 classes.\n"
     ]
    }
   ],
   "source": [
    "# Load and preprocess training data\n",
    "train_generator = train_datagen.flow_from_directory(\n",
    "    train_dir,\n",
    "    target_size=(224, 224),  # Adjust target size as needed\n",
    "    batch_size=32,           # Adjust batch size as needed\n",
    "    class_mode='categorical',\n",
    "    subset='training'\n",
    ")"
   ]
  },
  {
   "cell_type": "code",
   "execution_count": 5,
   "id": "52ae1b4b",
   "metadata": {},
   "outputs": [
    {
     "name": "stdout",
     "output_type": "stream",
     "text": [
      "Found 31 images belonging to 2 classes.\n"
     ]
    }
   ],
   "source": [
    "# Load and preprocess testing data\n",
    "validation_generator = train_datagen.flow_from_directory(\n",
    "    train_dir,\n",
    "    target_size=(224, 224),  # Adjust target size as needed\n",
    "    batch_size=32,           # Adjust batch size as needed\n",
    "    class_mode='categorical',\n",
    "    subset='validation'\n",
    ")"
   ]
  },
  {
   "cell_type": "code",
   "execution_count": 6,
   "id": "e780f0cd",
   "metadata": {},
   "outputs": [],
   "source": [
    "# Build the CNN model\n",
    "model = Sequential([\n",
    "    Conv2D(32, (3, 3), activation='relu', input_shape=(224, 224, 3)),\n",
    "    MaxPooling2D((2, 2)),\n",
    "    Conv2D(64, (3, 3), activation='relu'),\n",
    "    MaxPooling2D((2, 2)),\n",
    "    Conv2D(128, (3, 3), activation='relu'),\n",
    "    MaxPooling2D((2, 2)),\n",
    "    Flatten(),\n",
    "    Dense(128, activation='relu'),\n",
    "    Dropout(0.5),\n",
    "    Dense(2, activation='softmax')  # Two classes: 'mud' and 'potholes'\n",
    "])"
   ]
  },
  {
   "cell_type": "code",
   "execution_count": 7,
   "id": "cbfd9e10",
   "metadata": {},
   "outputs": [],
   "source": [
    "# Compile the model with appropriate loss and optimizer\n",
    "model.compile(optimizer='adam',\n",
    "              loss='categorical_crossentropy',\n",
    "              metrics=['accuracy'])\n"
   ]
  },
  {
   "cell_type": "code",
   "execution_count": 8,
   "id": "d4b3f9c3",
   "metadata": {
    "scrolled": true
   },
   "outputs": [
    {
     "name": "stdout",
     "output_type": "stream",
     "text": [
      "Epoch 1/100\n",
      "4/4 [==============================] - 49s 11s/step - loss: 2.9424 - accuracy: 0.4882 - val_loss: 0.6508 - val_accuracy: 0.6129\n",
      "Epoch 2/100\n",
      "4/4 [==============================] - 22s 5s/step - loss: 0.6725 - accuracy: 0.5354 - val_loss: 0.6199 - val_accuracy: 0.6774\n",
      "Epoch 3/100\n",
      "4/4 [==============================] - 21s 5s/step - loss: 0.5555 - accuracy: 0.7087 - val_loss: 0.5426 - val_accuracy: 0.7419\n",
      "Epoch 4/100\n",
      "4/4 [==============================] - 23s 5s/step - loss: 0.4073 - accuracy: 0.8346 - val_loss: 0.4931 - val_accuracy: 0.8065\n",
      "Epoch 5/100\n",
      "4/4 [==============================] - 22s 5s/step - loss: 0.2969 - accuracy: 0.8740 - val_loss: 0.6089 - val_accuracy: 0.8387\n",
      "Epoch 6/100\n",
      "4/4 [==============================] - 21s 5s/step - loss: 0.2834 - accuracy: 0.8976 - val_loss: 0.5703 - val_accuracy: 0.8387\n",
      "Epoch 7/100\n",
      "4/4 [==============================] - 21s 5s/step - loss: 0.2841 - accuracy: 0.8819 - val_loss: 0.5858 - val_accuracy: 0.8387\n",
      "Epoch 8/100\n",
      "4/4 [==============================] - 21s 5s/step - loss: 0.1960 - accuracy: 0.9291 - val_loss: 0.6585 - val_accuracy: 0.8065\n",
      "Epoch 9/100\n",
      "4/4 [==============================] - 20s 5s/step - loss: 0.1834 - accuracy: 0.9291 - val_loss: 0.6564 - val_accuracy: 0.7097\n",
      "Epoch 10/100\n",
      "4/4 [==============================] - 20s 5s/step - loss: 0.2833 - accuracy: 0.8898 - val_loss: 0.7618 - val_accuracy: 0.7742\n",
      "Epoch 11/100\n",
      "4/4 [==============================] - 21s 5s/step - loss: 0.3102 - accuracy: 0.8976 - val_loss: 0.4575 - val_accuracy: 0.7097\n",
      "Epoch 12/100\n",
      "4/4 [==============================] - 21s 5s/step - loss: 0.2025 - accuracy: 0.9291 - val_loss: 0.6214 - val_accuracy: 0.7742\n",
      "Epoch 13/100\n",
      "4/4 [==============================] - 21s 5s/step - loss: 0.1700 - accuracy: 0.9528 - val_loss: 0.3938 - val_accuracy: 0.8065\n",
      "Epoch 14/100\n",
      "4/4 [==============================] - 20s 5s/step - loss: 0.0927 - accuracy: 0.9606 - val_loss: 0.8761 - val_accuracy: 0.8065\n",
      "Epoch 15/100\n",
      "4/4 [==============================] - 20s 5s/step - loss: 0.1455 - accuracy: 0.9449 - val_loss: 0.5680 - val_accuracy: 0.8065\n",
      "Epoch 16/100\n",
      "4/4 [==============================] - 20s 5s/step - loss: 0.1239 - accuracy: 0.9685 - val_loss: 0.5472 - val_accuracy: 0.8065\n",
      "Epoch 17/100\n",
      "4/4 [==============================] - 20s 5s/step - loss: 0.1105 - accuracy: 0.9449 - val_loss: 0.4005 - val_accuracy: 0.8387\n",
      "Epoch 18/100\n",
      "4/4 [==============================] - 21s 5s/step - loss: 0.1007 - accuracy: 0.9528 - val_loss: 0.3506 - val_accuracy: 0.8710\n",
      "Epoch 19/100\n",
      "4/4 [==============================] - 21s 5s/step - loss: 0.0697 - accuracy: 0.9921 - val_loss: 0.3796 - val_accuracy: 0.8710\n",
      "Epoch 20/100\n",
      "4/4 [==============================] - 20s 5s/step - loss: 0.0326 - accuracy: 0.9843 - val_loss: 0.5965 - val_accuracy: 0.8387\n",
      "Epoch 21/100\n",
      "4/4 [==============================] - 20s 5s/step - loss: 0.0135 - accuracy: 1.0000 - val_loss: 0.7116 - val_accuracy: 0.8387\n",
      "Epoch 22/100\n",
      "4/4 [==============================] - 21s 5s/step - loss: 0.0186 - accuracy: 0.9921 - val_loss: 0.6035 - val_accuracy: 0.7742\n",
      "Epoch 23/100\n",
      "4/4 [==============================] - 20s 5s/step - loss: 0.0264 - accuracy: 0.9764 - val_loss: 0.7442 - val_accuracy: 0.8387\n",
      "Epoch 24/100\n",
      "4/4 [==============================] - 21s 5s/step - loss: 0.0321 - accuracy: 0.9843 - val_loss: 0.7937 - val_accuracy: 0.7742\n",
      "Epoch 25/100\n",
      "4/4 [==============================] - 21s 5s/step - loss: 0.0379 - accuracy: 0.9921 - val_loss: 0.6521 - val_accuracy: 0.8387\n",
      "Epoch 26/100\n",
      "4/4 [==============================] - 21s 5s/step - loss: 0.0263 - accuracy: 1.0000 - val_loss: 0.4732 - val_accuracy: 0.8387\n",
      "Epoch 27/100\n",
      "4/4 [==============================] - 22s 5s/step - loss: 0.0137 - accuracy: 1.0000 - val_loss: 0.5735 - val_accuracy: 0.8387\n",
      "Epoch 28/100\n",
      "4/4 [==============================] - 21s 5s/step - loss: 0.0142 - accuracy: 1.0000 - val_loss: 0.6687 - val_accuracy: 0.9032\n",
      "Epoch 29/100\n",
      "4/4 [==============================] - 20s 5s/step - loss: 0.0066 - accuracy: 1.0000 - val_loss: 0.5683 - val_accuracy: 0.8710\n",
      "Epoch 30/100\n",
      "4/4 [==============================] - 21s 5s/step - loss: 0.0049 - accuracy: 1.0000 - val_loss: 0.6670 - val_accuracy: 0.8710\n",
      "Epoch 31/100\n",
      "4/4 [==============================] - 23s 6s/step - loss: 0.0030 - accuracy: 1.0000 - val_loss: 0.8145 - val_accuracy: 0.8710\n",
      "Epoch 32/100\n",
      "4/4 [==============================] - 23s 6s/step - loss: 0.0095 - accuracy: 0.9921 - val_loss: 1.1211 - val_accuracy: 0.7742\n",
      "Epoch 33/100\n",
      "4/4 [==============================] - 39s 11s/step - loss: 0.0163 - accuracy: 0.9921 - val_loss: 0.5784 - val_accuracy: 0.8387\n",
      "Epoch 34/100\n",
      "4/4 [==============================] - 25s 6s/step - loss: 0.0142 - accuracy: 0.9921 - val_loss: 0.6222 - val_accuracy: 0.8710\n",
      "Epoch 35/100\n",
      "4/4 [==============================] - 23s 6s/step - loss: 0.0030 - accuracy: 1.0000 - val_loss: 0.7874 - val_accuracy: 0.7742\n",
      "Epoch 36/100\n",
      "4/4 [==============================] - 23s 6s/step - loss: 0.0092 - accuracy: 1.0000 - val_loss: 0.7569 - val_accuracy: 0.8387\n",
      "Epoch 37/100\n",
      "4/4 [==============================] - 22s 5s/step - loss: 0.0048 - accuracy: 1.0000 - val_loss: 0.6709 - val_accuracy: 0.8387\n",
      "Epoch 38/100\n",
      "4/4 [==============================] - 21s 5s/step - loss: 0.0025 - accuracy: 1.0000 - val_loss: 0.7292 - val_accuracy: 0.8387\n",
      "Epoch 39/100\n",
      "4/4 [==============================] - 20s 5s/step - loss: 0.0019 - accuracy: 1.0000 - val_loss: 0.8796 - val_accuracy: 0.8387\n",
      "Epoch 40/100\n",
      "4/4 [==============================] - 21s 5s/step - loss: 0.0019 - accuracy: 1.0000 - val_loss: 1.1870 - val_accuracy: 0.8387\n",
      "Epoch 41/100\n",
      "4/4 [==============================] - 21s 5s/step - loss: 0.0011 - accuracy: 1.0000 - val_loss: 1.4681 - val_accuracy: 0.8065\n",
      "Epoch 42/100\n",
      "4/4 [==============================] - 21s 5s/step - loss: 0.0034 - accuracy: 1.0000 - val_loss: 1.2820 - val_accuracy: 0.8387\n",
      "Epoch 43/100\n",
      "4/4 [==============================] - 20s 5s/step - loss: 8.4396e-04 - accuracy: 1.0000 - val_loss: 0.8162 - val_accuracy: 0.8387\n",
      "Epoch 44/100\n",
      "4/4 [==============================] - 21s 5s/step - loss: 0.0046 - accuracy: 1.0000 - val_loss: 0.7439 - val_accuracy: 0.8387\n",
      "Epoch 45/100\n",
      "4/4 [==============================] - 21s 5s/step - loss: 0.0028 - accuracy: 1.0000 - val_loss: 0.8893 - val_accuracy: 0.8387\n",
      "Epoch 46/100\n",
      "4/4 [==============================] - 21s 5s/step - loss: 5.0312e-04 - accuracy: 1.0000 - val_loss: 1.1354 - val_accuracy: 0.7742\n",
      "Epoch 47/100\n",
      "4/4 [==============================] - 22s 5s/step - loss: 0.0013 - accuracy: 1.0000 - val_loss: 1.2863 - val_accuracy: 0.7742\n",
      "Epoch 48/100\n",
      "4/4 [==============================] - 21s 5s/step - loss: 0.0044 - accuracy: 1.0000 - val_loss: 0.9364 - val_accuracy: 0.8387\n",
      "Epoch 49/100\n",
      "4/4 [==============================] - 20s 5s/step - loss: 0.0017 - accuracy: 1.0000 - val_loss: 0.8423 - val_accuracy: 0.8065\n",
      "Epoch 50/100\n",
      "4/4 [==============================] - 21s 5s/step - loss: 0.0034 - accuracy: 1.0000 - val_loss: 1.0727 - val_accuracy: 0.8065\n",
      "Epoch 51/100\n",
      "4/4 [==============================] - 20s 5s/step - loss: 0.0011 - accuracy: 1.0000 - val_loss: 1.2714 - val_accuracy: 0.8387\n",
      "Epoch 52/100\n",
      "4/4 [==============================] - 21s 5s/step - loss: 0.0030 - accuracy: 1.0000 - val_loss: 1.0511 - val_accuracy: 0.8387\n",
      "Epoch 53/100\n",
      "4/4 [==============================] - 21s 5s/step - loss: 4.7246e-04 - accuracy: 1.0000 - val_loss: 0.8874 - val_accuracy: 0.8710\n",
      "Epoch 54/100\n",
      "4/4 [==============================] - 22s 5s/step - loss: 0.0012 - accuracy: 1.0000 - val_loss: 0.8356 - val_accuracy: 0.8065\n",
      "Epoch 55/100\n",
      "4/4 [==============================] - 22s 5s/step - loss: 9.4536e-04 - accuracy: 1.0000 - val_loss: 0.8642 - val_accuracy: 0.8710\n",
      "Epoch 56/100\n",
      "4/4 [==============================] - 23s 6s/step - loss: 6.3868e-04 - accuracy: 1.0000 - val_loss: 0.9541 - val_accuracy: 0.8387\n",
      "Epoch 57/100\n",
      "4/4 [==============================] - 23s 5s/step - loss: 7.9524e-04 - accuracy: 1.0000 - val_loss: 1.0424 - val_accuracy: 0.8387\n",
      "Epoch 58/100\n",
      "4/4 [==============================] - 21s 5s/step - loss: 4.0600e-04 - accuracy: 1.0000 - val_loss: 1.1174 - val_accuracy: 0.8387\n",
      "Epoch 59/100\n"
     ]
    },
    {
     "name": "stdout",
     "output_type": "stream",
     "text": [
      "4/4 [==============================] - 21s 5s/step - loss: 4.9507e-04 - accuracy: 1.0000 - val_loss: 1.1378 - val_accuracy: 0.8387\n",
      "Epoch 60/100\n",
      "4/4 [==============================] - 22s 5s/step - loss: 4.1203e-04 - accuracy: 1.0000 - val_loss: 1.1165 - val_accuracy: 0.8387\n",
      "Epoch 61/100\n",
      "4/4 [==============================] - 22s 5s/step - loss: 3.5001e-04 - accuracy: 1.0000 - val_loss: 1.0779 - val_accuracy: 0.8387\n",
      "Epoch 62/100\n",
      "4/4 [==============================] - 20s 5s/step - loss: 3.9793e-04 - accuracy: 1.0000 - val_loss: 1.0410 - val_accuracy: 0.8387\n",
      "Epoch 63/100\n",
      "4/4 [==============================] - 21s 5s/step - loss: 2.6933e-04 - accuracy: 1.0000 - val_loss: 1.0158 - val_accuracy: 0.8387\n",
      "Epoch 64/100\n",
      "4/4 [==============================] - 21s 5s/step - loss: 1.2222e-04 - accuracy: 1.0000 - val_loss: 1.0107 - val_accuracy: 0.8710\n",
      "Epoch 65/100\n",
      "4/4 [==============================] - 21s 5s/step - loss: 2.8735e-04 - accuracy: 1.0000 - val_loss: 1.0423 - val_accuracy: 0.8387\n",
      "Epoch 66/100\n",
      "4/4 [==============================] - 24s 6s/step - loss: 1.3175e-04 - accuracy: 1.0000 - val_loss: 1.0869 - val_accuracy: 0.8387\n",
      "Epoch 67/100\n",
      "4/4 [==============================] - 21s 5s/step - loss: 6.8312e-05 - accuracy: 1.0000 - val_loss: 1.1339 - val_accuracy: 0.8387\n",
      "Epoch 68/100\n",
      "4/4 [==============================] - 21s 5s/step - loss: 5.5332e-05 - accuracy: 1.0000 - val_loss: 1.1771 - val_accuracy: 0.8387\n",
      "Epoch 69/100\n",
      "4/4 [==============================] - 22s 5s/step - loss: 5.7082e-05 - accuracy: 1.0000 - val_loss: 1.2100 - val_accuracy: 0.8387\n",
      "Epoch 70/100\n",
      "4/4 [==============================] - 22s 5s/step - loss: 2.0754e-05 - accuracy: 1.0000 - val_loss: 1.2305 - val_accuracy: 0.8387\n",
      "Epoch 71/100\n",
      "4/4 [==============================] - 22s 5s/step - loss: 1.2093e-04 - accuracy: 1.0000 - val_loss: 1.2537 - val_accuracy: 0.8387\n",
      "Epoch 72/100\n",
      "4/4 [==============================] - 20s 5s/step - loss: 9.3549e-04 - accuracy: 1.0000 - val_loss: 1.3470 - val_accuracy: 0.8065\n",
      "Epoch 73/100\n",
      "4/4 [==============================] - 21s 5s/step - loss: 1.3249e-04 - accuracy: 1.0000 - val_loss: 1.4862 - val_accuracy: 0.8065\n",
      "Epoch 74/100\n",
      "4/4 [==============================] - 21s 5s/step - loss: 3.5805e-04 - accuracy: 1.0000 - val_loss: 1.5269 - val_accuracy: 0.8065\n",
      "Epoch 75/100\n",
      "4/4 [==============================] - 21s 5s/step - loss: 2.8184e-04 - accuracy: 1.0000 - val_loss: 1.4549 - val_accuracy: 0.8065\n",
      "Epoch 76/100\n",
      "4/4 [==============================] - 20s 5s/step - loss: 1.9706e-04 - accuracy: 1.0000 - val_loss: 1.3526 - val_accuracy: 0.7742\n",
      "Epoch 77/100\n",
      "4/4 [==============================] - 21s 5s/step - loss: 7.1883e-05 - accuracy: 1.0000 - val_loss: 1.2797 - val_accuracy: 0.7742\n",
      "Epoch 78/100\n",
      "4/4 [==============================] - 20s 5s/step - loss: 2.5295e-04 - accuracy: 1.0000 - val_loss: 1.2359 - val_accuracy: 0.8065\n",
      "Epoch 79/100\n",
      "4/4 [==============================] - 21s 5s/step - loss: 6.0674e-05 - accuracy: 1.0000 - val_loss: 1.1950 - val_accuracy: 0.8387\n",
      "Epoch 80/100\n",
      "4/4 [==============================] - 20s 5s/step - loss: 3.7221e-05 - accuracy: 1.0000 - val_loss: 1.1681 - val_accuracy: 0.8387\n",
      "Epoch 81/100\n",
      "4/4 [==============================] - 22s 6s/step - loss: 1.0067e-04 - accuracy: 1.0000 - val_loss: 1.1503 - val_accuracy: 0.8387\n",
      "Epoch 82/100\n",
      "4/4 [==============================] - 20s 5s/step - loss: 1.4615e-04 - accuracy: 1.0000 - val_loss: 1.1342 - val_accuracy: 0.8387\n",
      "Epoch 83/100\n",
      "4/4 [==============================] - 22s 5s/step - loss: 1.5404e-04 - accuracy: 1.0000 - val_loss: 1.1162 - val_accuracy: 0.8387\n",
      "Epoch 84/100\n",
      "4/4 [==============================] - 21s 5s/step - loss: 1.5146e-04 - accuracy: 1.0000 - val_loss: 1.1239 - val_accuracy: 0.8387\n",
      "Epoch 85/100\n",
      "4/4 [==============================] - 21s 5s/step - loss: 3.1587e-05 - accuracy: 1.0000 - val_loss: 1.1415 - val_accuracy: 0.8387\n",
      "Epoch 86/100\n",
      "4/4 [==============================] - 22s 6s/step - loss: 7.8312e-05 - accuracy: 1.0000 - val_loss: 1.1646 - val_accuracy: 0.8387\n",
      "Epoch 87/100\n",
      "4/4 [==============================] - 23s 5s/step - loss: 1.4386e-04 - accuracy: 1.0000 - val_loss: 1.1927 - val_accuracy: 0.8387\n",
      "Epoch 88/100\n",
      "4/4 [==============================] - 25s 5s/step - loss: 1.0216e-04 - accuracy: 1.0000 - val_loss: 1.2298 - val_accuracy: 0.8387\n",
      "Epoch 89/100\n",
      "4/4 [==============================] - 23s 5s/step - loss: 6.1309e-05 - accuracy: 1.0000 - val_loss: 1.2692 - val_accuracy: 0.8387\n",
      "Epoch 90/100\n",
      "4/4 [==============================] - 23s 5s/step - loss: 6.4006e-05 - accuracy: 1.0000 - val_loss: 1.3081 - val_accuracy: 0.8387\n",
      "Epoch 91/100\n",
      "4/4 [==============================] - 21s 5s/step - loss: 1.9266e-05 - accuracy: 1.0000 - val_loss: 1.3336 - val_accuracy: 0.8387\n",
      "Epoch 92/100\n",
      "4/4 [==============================] - 22s 6s/step - loss: 5.9049e-05 - accuracy: 1.0000 - val_loss: 1.3490 - val_accuracy: 0.8387\n",
      "Epoch 93/100\n",
      "4/4 [==============================] - 23s 5s/step - loss: 6.0049e-05 - accuracy: 1.0000 - val_loss: 1.3779 - val_accuracy: 0.8387\n",
      "Epoch 94/100\n",
      "4/4 [==============================] - 21s 5s/step - loss: 0.0012 - accuracy: 1.0000 - val_loss: 1.3873 - val_accuracy: 0.8387\n",
      "Epoch 95/100\n",
      "4/4 [==============================] - 21s 5s/step - loss: 6.0465e-05 - accuracy: 1.0000 - val_loss: 1.2059 - val_accuracy: 0.8710\n",
      "Epoch 96/100\n",
      "4/4 [==============================] - 22s 5s/step - loss: 7.0114e-04 - accuracy: 1.0000 - val_loss: 1.2570 - val_accuracy: 0.8387\n",
      "Epoch 97/100\n",
      "4/4 [==============================] - 22s 5s/step - loss: 6.0743e-05 - accuracy: 1.0000 - val_loss: 1.3918 - val_accuracy: 0.8387\n",
      "Epoch 98/100\n",
      "4/4 [==============================] - 21s 5s/step - loss: 7.4942e-05 - accuracy: 1.0000 - val_loss: 1.4973 - val_accuracy: 0.8387\n",
      "Epoch 99/100\n",
      "4/4 [==============================] - 21s 5s/step - loss: 6.6611e-04 - accuracy: 1.0000 - val_loss: 1.4618 - val_accuracy: 0.8387\n",
      "Epoch 100/100\n",
      "4/4 [==============================] - 21s 5s/step - loss: 6.9919e-04 - accuracy: 1.0000 - val_loss: 1.1780 - val_accuracy: 0.8710\n"
     ]
    }
   ],
   "source": [
    "# Train the model on the training dataset\n",
    "history = model.fit(train_generator, epochs=100, validation_data=validation_generator)"
   ]
  },
  {
   "cell_type": "code",
   "execution_count": 9,
   "id": "01715e31",
   "metadata": {
    "scrolled": true
   },
   "outputs": [],
   "source": [
    "# Evaluate the model on the testing dataset\n",
    "test_dir = os.path.join(base_dir, 'test')"
   ]
  },
  {
   "cell_type": "code",
   "execution_count": 10,
   "id": "8ad5d5f6",
   "metadata": {},
   "outputs": [],
   "source": [
    "# Evaluate the model on the testing dataset\n",
    "test_datagen = ImageDataGenerator(rescale=1.0/255.0)"
   ]
  },
  {
   "cell_type": "code",
   "execution_count": 11,
   "id": "2570adff",
   "metadata": {},
   "outputs": [
    {
     "name": "stdout",
     "output_type": "stream",
     "text": [
      "Found 40 images belonging to 2 classes.\n"
     ]
    }
   ],
   "source": [
    "# Evaluate the model on the testing dataset\n",
    "test_generator = test_datagen.flow_from_directory(\n",
    "    test_dir,\n",
    "    target_size=(224, 224),\n",
    "    batch_size=32,\n",
    "    class_mode='categorical'\n",
    ")"
   ]
  },
  {
   "cell_type": "code",
   "execution_count": 12,
   "id": "534cae69",
   "metadata": {},
   "outputs": [
    {
     "name": "stdout",
     "output_type": "stream",
     "text": [
      "2/2 [==============================] - 3s 423ms/step - loss: 0.7229 - accuracy: 0.8500\n",
      "Test accuracy: 85.00%\n"
     ]
    }
   ],
   "source": [
    "test_loss, test_accuracy = model.evaluate(test_generator)\n",
    "print(f'Test accuracy: {test_accuracy:.2%}')"
   ]
  },
  {
   "cell_type": "code",
   "execution_count": 13,
   "id": "f16d9be7",
   "metadata": {},
   "outputs": [
    {
     "data": {
      "image/png": "[encoded data removed]",
      "text/plain": [
       "<Figure size 1200x400 with 2 Axes>"
      ]
     },
     "metadata": {},
     "output_type": "display_data"
    }
   ],
   "source": [
    "# Visualize training and validation loss and accuracy over epochs\n",
    "plt.figure(figsize=(12, 4))\n",
    "plt.subplot(1, 2, 1)\n",
    "plt.plot(history.history['loss'], label='Training Loss')\n",
    "plt.plot(history.history['val_loss'], label='Validation Loss')\n",
    "plt.xlabel('Epochs')\n",
    "plt.ylabel('Loss')\n",
    "plt.legend()\n",
    "\n",
    "plt.subplot(1, 2, 2)\n",
    "plt.plot(history.history['accuracy'], label='Training Accuracy')\n",
    "plt.plot(history.history['val_accuracy'], label='Validation Accuracy')\n",
    "plt.xlabel('Epochs')\n",
    "plt.ylabel('Accuracy')\n",
    "plt.legend()\n",
    "\n",
    "plt.show()"
   ]
  },
  {
   "cell_type": "code",
   "execution_count": null,
   "id": "366a8ae9",
   "metadata": {},
   "outputs": [],
   "source": []
  }
 ],
 "metadata": {
  "kernelspec": {
   "display_name": "Python 3 (ipykernel)",
   "language": "python",
   "name": "python3"
  },
  "language_info": {
   "codemirror_mode": {
    "name": "ipython",
    "version": 3
   },
   "file_extension": ".py",
   "mimetype": "text/x-python",
   "name": "python",
   "nbconvert_exporter": "python",
   "pygments_lexer": "ipython3",
   "version": "3.11.4"
  }
 },
 "nbformat": 4,
 "nbformat_minor": 5
}
